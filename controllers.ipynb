{
  "cells": [
    {
      "cell_type": "markdown",
      "metadata": {},
      "source": "Preamble\n--------\n"
    },
    {
      "cell_type": "code",
      "execution_count": 1,
      "metadata": {},
      "outputs": [],
      "source": "from numpy import *\nimport matplotlib; matplotlib.use(\"nbAgg\")\nfrom matplotlib.pyplot import *\n%matplotlib notebook "
    },
    {
      "cell_type": "markdown",
      "metadata": {},
      "source": "------------------------------------------------------------------------\n"
    },
    {
      "cell_type": "markdown",
      "metadata": {},
      "source": "**NOPE, start with general non-linear dynamics** (pendulum example)\n"
    },
    {
      "cell_type": "markdown",
      "metadata": {},
      "source": "$$\n  \\begin{array}{lll}\n  \\dot{x} &=& A x + B u \\\\\n  \\end{array}\n  $$\n"
    },
    {
      "cell_type": "markdown",
      "metadata": {},
      "source": "$A \\in \\mathbb{R}^{n \\times n}, B \\in \\mathbb{R}^{n \\times m}$.\n"
    },
    {
      "cell_type": "markdown",
      "metadata": {},
      "source": "Commandability\n==============\n"
    },
    {
      "cell_type": "markdown",
      "metadata": {},
      "source": "Definition\n----------\n"
    },
    {
      "cell_type": "markdown",
      "metadata": {},
      "source": "The dynamical system is **commandable** if for any\n"
    },
    {
      "cell_type": "markdown",
      "metadata": {},
      "source": "-   $t_0 \\in \\mathbb{R}$, $x_0 \\in \\mathbb{R}^n$ and\n    $x_f \\in \\mathbb{R}^n$,\n"
    },
    {
      "cell_type": "markdown",
      "metadata": {},
      "source": "there are\n"
    },
    {
      "cell_type": "markdown",
      "metadata": {},
      "source": "-   $t_f > 0$ and $u: [t_0, t_f] \\to \\mathbb{R}^m$\n"
    },
    {
      "cell_type": "markdown",
      "metadata": {},
      "source": "such that\n"
    },
    {
      "cell_type": "markdown",
      "metadata": {},
      "source": "$$\n  x(t_f, x_0, t_0) = x_f.\n  $$\n"
    },
    {
      "cell_type": "markdown",
      "metadata": {},
      "source": "Example, Phase plots\n--------------------\n"
    },
    {
      "cell_type": "markdown",
      "metadata": {},
      "source": "**TODO**: the car, linear acceleration, finish line 100 m.\n"
    },
    {
      "cell_type": "markdown",
      "metadata": {},
      "source": "------------------------------------------------------------------------\n"
    },
    {
      "cell_type": "markdown",
      "metadata": {},
      "source": "### Exercise\n"
    },
    {
      "cell_type": "markdown",
      "metadata": {},
      "source": "The pendulum:\n"
    },
    {
      "cell_type": "markdown",
      "metadata": {},
      "source": "-   \\[<i class=\"fa fa-superscript\"></i>\\] go from stable equilibrium to\n    unstable one in finite-time.\n\n-   \\[<i class=\"fa fa-laptop\"></i>\\] Simulation.\n"
    },
    {
      "cell_type": "markdown",
      "metadata": {},
      "source": "Concepts, Simplifications: LTI case.\n------------------------------------\n"
    },
    {
      "cell_type": "markdown",
      "metadata": {},
      "source": "wrt $t_0$, $x_0$, $t_f$, etc.\n"
    },
    {
      "cell_type": "markdown",
      "metadata": {},
      "source": "------------------------------------------------------------------------\n"
    },
    {
      "cell_type": "markdown",
      "metadata": {},
      "source": "### Reachable States\n"
    },
    {
      "cell_type": "markdown",
      "metadata": {},
      "source": "Definition: the states $x_f$ that may be reached from $t_0=0$, $x_0=0$\nwhen $t_f = 1$.\n"
    },
    {
      "cell_type": "markdown",
      "metadata": {},
      "source": "It\u2019s a vector space, denoted $\\mathcal{R}$.\n"
    },
    {
      "cell_type": "markdown",
      "metadata": {},
      "source": "------------------------------------------------------------------------\n"
    },
    {
      "cell_type": "markdown",
      "metadata": {},
      "source": "### Exercise \u2013 <i class=\"fa fa-superscript\"></i>\n"
    },
    {
      "cell_type": "markdown",
      "metadata": {},
      "source": "Car: reach a specific speed at a specific point. Can we maintain ?\n"
    },
    {
      "cell_type": "markdown",
      "metadata": {},
      "source": "------------------------------------------------------------------------\n"
    },
    {
      "cell_type": "markdown",
      "metadata": {},
      "source": "Kalman controllability matrix:\n"
    },
    {
      "cell_type": "markdown",
      "metadata": {},
      "source": "$$\n  \\mathcal{C} := \\left[B, AB, \\dots, A^{n-1} B\\right]\n  $$\n"
    },
    {
      "cell_type": "markdown",
      "metadata": {},
      "source": "then\n"
    },
    {
      "cell_type": "markdown",
      "metadata": {},
      "source": "$$\n  \\mathcal{R} = \\mathrm{Im} \\, \\mathcal{C}\n  $$\n"
    },
    {
      "cell_type": "markdown",
      "metadata": {},
      "source": "Example\n-------\n"
    },
    {
      "cell_type": "markdown",
      "metadata": {},
      "source": "**TODO**\n"
    },
    {
      "cell_type": "markdown",
      "metadata": {},
      "source": "Kalman Criterion\n----------------\n"
    },
    {
      "cell_type": "markdown",
      "metadata": {},
      "source": "The system $\\dot{x} = Ax+Bu$ is commandable iff:\n"
    },
    {
      "cell_type": "markdown",
      "metadata": {},
      "source": "$$\n  \\mathrm{rank} \\, \\left[B, AB, \\dots, A^{n-1} B\\right] = n\n  $$\n"
    },
    {
      "cell_type": "markdown",
      "metadata": {},
      "source": "Asymptotic Stability\n--------------------\n"
    },
    {
      "cell_type": "markdown",
      "metadata": {},
      "source": "Explain that commandability can be leveraged to stabilize systems.\n"
    },
    {
      "cell_type": "markdown",
      "metadata": {},
      "source": "------------------------------------------------------------------------\n"
    },
    {
      "cell_type": "markdown",
      "metadata": {},
      "source": "Assume that $\\dot{x} = A x + Bu$ is commandable.\n"
    },
    {
      "cell_type": "markdown",
      "metadata": {},
      "source": "Then, there is a gain matrix $K \\in \\mathbb{R}^{n \\times m}$,\\\nsuch that the closed-loop dynamics\n"
    },
    {
      "cell_type": "markdown",
      "metadata": {},
      "source": "$$\n  \\begin{array}[ccc]\n  \\dot{x} = Ax + B u \\\\\n  u = - K x\n  \\end{array}\n  $$\n"
    },
    {
      "cell_type": "markdown",
      "metadata": {},
      "source": "is asymptotically stable.\n"
    },
    {
      "cell_type": "markdown",
      "metadata": {},
      "source": "Pole Placement\n==============\n"
    },
    {
      "cell_type": "markdown",
      "metadata": {},
      "source": "------------------------------------------------------------------------\n"
    },
    {
      "cell_type": "markdown",
      "metadata": {},
      "source": "Optimal Control\n===============\n"
    },
    {
      "cell_type": "markdown",
      "metadata": {},
      "source": "------------------------------------------------------------------------\n"
    },
    {
      "cell_type": "markdown",
      "metadata": {},
      "source": "<style>\n\n.reveal section img {\n  border:0;\n  height:50vh;\n  width:auto;\n\n}\n\n.reveal section img.medium {\n  border:0;\n  max-width:50vh;\n}\n\n.reveal section img.icon {\n  display:inline;\n  border:0;\n  width:1em;\n  margin:0em;\n  box-shadow:none;\n  vertical-align:-10%;\n}\n\n.reveal code {\n  font-family: Inconsolata, monospace;\n}\n\n.reveal pre code {\n  font-size: 1.5em;\n  line-height: 1.5em;\n  /* max-height: 80wh; won't work, overriden */\n}\n\ninput {\n  font-family: \"Source Sans Pro\", Helvetica, sans-serif;\n  font-size: 42px;\n  line-height: 54.6px;\n}\n\n</style>\n"
    },
    {
      "cell_type": "markdown",
      "metadata": {},
      "source": "<link href=\"https://fonts.googleapis.com/css?family=Inconsolata:400,700\" rel=\"stylesheet\">\n"
    },
    {
      "cell_type": "markdown",
      "metadata": {},
      "source": "<link href=\"https://cdnjs.cloudflare.com/ajax/libs/font-awesome/4.7.0/css/font-awesome.css\" rel=\"stylesheet\">\n"
    }
  ],
  "metadata": {
    "kernelspec": {
      "display_name": "Python 3",
      "language": "python",
      "name": "python3"
    },
    "language_info": {
      "codemirror_mode": {
        "name": "ipython",
        "version": 3
      },
      "file_extension": ".py",
      "mimetype": "text/x-python",
      "name": "python",
      "nbconvert_exporter": "python",
      "pygments_lexer": "ipython3",
      "version": "3.6.4"
    }
  },
  "nbformat": 4,
  "nbformat_minor": 2
}