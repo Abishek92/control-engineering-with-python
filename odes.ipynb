{
  "cells": [
    {
      "cell_type": "markdown",
      "metadata": {},
      "source": "Preamble\n--------\n"
    },
    {
      "cell_type": "code",
      "execution_count": 1,
      "metadata": {},
      "outputs": [],
      "source": "from numpy import *\nimport matplotlib; matplotlib.use(\"nbAgg\")\nfrom matplotlib.pyplot import *\n%matplotlib notebook "
    },
    {
      "cell_type": "markdown",
      "metadata": {},
      "source": "TODO:\n"
    },
    {
      "cell_type": "markdown",
      "metadata": {},
      "source": "-   solve the \u201cinteractive widgets only appear when the notebook is run\n    twice\u201d issue\n"
    },
    {
      "cell_type": "markdown",
      "metadata": {},
      "source": "TODO: Get Sorted\n================\n"
    },
    {
      "cell_type": "markdown",
      "metadata": {},
      "source": "Initial Value Problem (Redux)\n-----------------------------\n"
    },
    {
      "cell_type": "markdown",
      "metadata": {},
      "source": "Let $n \\in \\mathbb{N}^*$ and $f:\\mathbb{R}^n \\to \\mathbb{R}^n$.\n"
    },
    {
      "cell_type": "markdown",
      "metadata": {},
      "source": "The **initial-value problem** (IVP) with **right-hand side** (or\n**vector field**) $f$ refers to:\n"
    },
    {
      "cell_type": "markdown",
      "metadata": {},
      "source": "$$\n  \\dot{x} = f(x) \\; \\mbox{ and } \\;  x(t_0) = x_0 \n  $$\n"
    },
    {
      "cell_type": "markdown",
      "metadata": {},
      "source": "The **initial condition** $(t_0, x_0) \\in \\mathbb{R}^n$ is made of the\ninitial time $t_0$ and the initial value $x_0$.\n"
    },
    {
      "cell_type": "markdown",
      "metadata": {},
      "source": "Solution of the IVP (Redux)\n---------------------------\n"
    },
    {
      "cell_type": "markdown",
      "metadata": {},
      "source": "Any differentiable function\n"
    },
    {
      "cell_type": "markdown",
      "metadata": {},
      "source": "$$\n  x: t \\in  \\left[t_0, +\\infty \\right[ \\mapsto x(t) \\in \\mathbb{R}^n,\n  $$\n"
    },
    {
      "cell_type": "markdown",
      "metadata": {},
      "source": "such that:\n"
    },
    {
      "cell_type": "markdown",
      "metadata": {},
      "source": "-   for every $t \\geq t_0$, $\\dot{x}(t) = f(x(t))$.\n\n-   $x(t_0) = x_0$\n"
    },
    {
      "cell_type": "markdown",
      "metadata": {},
      "source": "Numerical Solution (Redux)\n--------------------------\n"
    },
    {
      "cell_type": "markdown",
      "metadata": {},
      "source": "$$\n  \\begin{split}\n  x(t + \\Delta t) \n    & \\simeq x(t) + \\Delta t \\times \\dot{x}(t) \\\\\n    & = x(t) + \\Delta(t) \\times f(t, x(t)) \\\\\n  \\end{split}\n  $$\n"
    },
    {
      "cell_type": "markdown",
      "metadata": {},
      "source": "**TODO:** explain sequence, times + values.\n"
    },
    {
      "cell_type": "markdown",
      "metadata": {},
      "source": "------------------------------------------------------------------------\n"
    },
    {
      "cell_type": "code",
      "execution_count": 2,
      "metadata": {},
      "outputs": [],
      "source": "def solve_ivp(f, t0, x0, dt, t_f):\n    ts, xs = [t0], [x0]\n    while ts[-1] <= t_f:\n        t, x = ts[-1], xs[-1]\n        t_next, x_next = t + dt, x + dt * f(x)\n        ts.append(t_next); xs.append(x_next)\n    return (array(ts), array(xs).T)"
    },
    {
      "cell_type": "markdown",
      "metadata": {},
      "source": "Example\n-------\n"
    },
    {
      "cell_type": "markdown",
      "metadata": {},
      "source": "$$\n  \\left|\n  \\begin{split}\n  \\dot{x} &= -y \\\\\n  \\dot{y} &= +x\n  \\end{split}\n  \\right.,\n  \\; \\mbox{ with } \\;\n  \\left|\n  \\begin{array}{l}\n  x(0) = 1\\\\\n  y(0) = 0\n  \\end{array}\n  \\right.\n  $$\n"
    },
    {
      "cell_type": "markdown",
      "metadata": {},
      "source": "------------------------------------------------------------------------\n"
    },
    {
      "cell_type": "markdown",
      "metadata": {},
      "source": "[Quiver](https://matplotlib.org/api/_as_gen/matplotlib.pyplot.streamplot.html) Helper\n-------------------------------------------------------------------------------------\n"
    },
    {
      "cell_type": "code",
      "execution_count": 3,
      "metadata": {},
      "outputs": [],
      "source": "def Q(f, xs, ys):\n\n    #print(\"f\", f)\n\n    X, Y = meshgrid(xs, ys)\n    fx = vectorize(lambda x, y: f([x, y])[0])\n    fy = vectorize(lambda x, y: f([x, y])[1])\n    return X, Y, fx(X, Y), fy(X, Y)"
    },
    {
      "cell_type": "markdown",
      "metadata": {},
      "source": "------------------------------------------------------------------------\n"
    },
    {
      "cell_type": "code",
      "execution_count": 4,
      "metadata": {},
      "outputs": [],
      "source": "def f(xy):\n    return array([-xy[1], xy[0]])\nfigure()\nx = arange(0.0, 2.0, 0.1)\ny = arange(-1.0, 2.0, 0.1)\nquiver(*Q(f, x, y)) "
    },
    {
      "cell_type": "markdown",
      "metadata": {},
      "source": "State Space: Vector Field\n-------------------------\n"
    },
    {
      "cell_type": "code",
      "execution_count": 5,
      "metadata": {},
      "outputs": [],
      "source": "def f(xy):\n    return array([-xy[1], xy[0]])\n\nfigure()\nxs = arange(-1.0, 1.0, 0.1)\nys = arange(-1.0, 1.0, 0.1)\nquiver(*Q(f, xs, ys))\ngrid(); axis(\"equal\")"
    },
    {
      "cell_type": "markdown",
      "metadata": {},
      "source": "------------------------------------------------------------------------\n"
    },
    {
      "cell_type": "markdown",
      "metadata": {},
      "source": "------------------------------------------------------------------------\n"
    },
    {
      "cell_type": "code",
      "execution_count": 6,
      "metadata": {},
      "outputs": [],
      "source": "t0, x0 = 0.0, [-1.0, 0.0]\ndt, tf = 0.01, 12.0\nts, xs = solve_ivp(f, t0, x0, dt, tf)"
    },
    {
      "cell_type": "markdown",
      "metadata": {},
      "source": "------------------------------------------------------------------------\n"
    },
    {
      "cell_type": "markdown",
      "metadata": {},
      "source": "**TODO:** simplify, get rid of subplots at this stage\n"
    },
    {
      "cell_type": "code",
      "execution_count": 7,
      "metadata": {},
      "outputs": [],
      "source": "figure()\n_, (ax1, ax2) = subplots(2, 1)\nax1.plot(ts, xs[0], \"k\")\nax2.plot(ts, xs[1], \"k\")\nax1.set_title(\"$x(t)$\")\nax2.set_title(\"$y(t)$\")"
    },
    {
      "cell_type": "markdown",
      "metadata": {},
      "source": "------------------------------------------------------------------------\n"
    },
    {
      "cell_type": "markdown",
      "metadata": {},
      "source": "**TODO:** arrow helper (use std & option markerwidth for integration)\n"
    },
    {
      "cell_type": "markdown",
      "metadata": {},
      "source": "------------------------------------------------------------------------\n"
    },
    {
      "cell_type": "code",
      "execution_count": 8,
      "metadata": {},
      "outputs": [],
      "source": "figure()\nquiver(*Q(f, arange(-1.5, 1.5, 0.1), arange(-1.5, 1.5, 0.1)), color=\"grey\")\nplot(xs[0], xs[1], \"k\")\nplot(x0[0], x0[1], \"ko\")\ndx = xs[0][-1] - xs[0][-2]\ndy = xs[1][-1] - xs[1][-2]\narrow(xs[0][-1], xs[1][-1], dx, dy, width=0.02, color=\"k\")\ngrid()\naxis(\"equal\")"
    },
    {
      "cell_type": "markdown",
      "metadata": {},
      "source": "Note: `arrow` does not rescale like markers \u2013 such as the initial point\n\u2013 do :(\n"
    },
    {
      "cell_type": "markdown",
      "metadata": {},
      "source": "------------------------------------------------------------------------\n"
    },
    {
      "cell_type": "code",
      "execution_count": 9,
      "metadata": {},
      "outputs": [],
      "source": "def explicit_euler_step(fun, t, y, step):\n    return y + step * fun(t, y)"
    },
    {
      "cell_type": "markdown",
      "metadata": {},
      "source": "Example\n-------\n"
    },
    {
      "cell_type": "markdown",
      "metadata": {},
      "source": "------------------------------------------------------------------------\n"
    },
    {
      "cell_type": "code",
      "execution_count": 10,
      "metadata": {},
      "outputs": [],
      "source": "class ODEScheme:\n    def __init__(self, fun, t0, y0, max_step, tf):\n        self.fun = fun\n        self.t = t0\n        self.y = y0\n        self.max_step = max_step\n        self.tf = tf"
    },
    {
      "cell_type": "markdown",
      "metadata": {},
      "source": "------------------------------------------------------------------------\n"
    },
    {
      "cell_type": "code",
      "execution_count": 11,
      "metadata": {},
      "outputs": [],
      "source": "class ExplicitEuler(ODEScheme):\n    def step(self):\n        t_next = min(self.tf, \\\n                     self.t + self.max_step)\n        step = t_next - self.t\n        y_next = explicit_euler_step(self.fun, \\\n                                     self.t,   \\\n                                     self.y,   \\\n                                     step      )\n        self.t = t_next\n        self.y = y_next"
    },
    {
      "cell_type": "markdown",
      "metadata": {},
      "source": "Interpolation\n-------------\n"
    },
    {
      "cell_type": "code",
      "execution_count": 12,
      "metadata": {},
      "outputs": [],
      "source": "from scipy.interpolate import interp1d\ndef interpolate(ti, yi):\n    def function(t):\n        options = {\"axis\": 0, \\\n                   \"fill_value\": \"extrapolate\"}\n        return interp1d(ti, yi, **options)(t).T\n    return function"
    },
    {
      "cell_type": "markdown",
      "metadata": {},
      "source": "Example\n-------\n"
    },
    {
      "cell_type": "code",
      "execution_count": 13,
      "metadata": {},
      "outputs": [],
      "source": "ti, yi = array([0, 1, 2]), array([1, 2, 1])\nf = interpolate(ti, yi)\nt = linspace(-1, 3, 100)\ny = f(t)\nfigure()\nplot(ti, yi, \"ko\")\nplot(t, y, \"k--\")"
    },
    {
      "cell_type": "markdown",
      "metadata": {},
      "source": "------------------------------------------------------------------------\n"
    },
    {
      "cell_type": "code",
      "execution_count": 14,
      "metadata": {},
      "outputs": [],
      "source": "def solve_ivp(fun, t_span, y0, \\\n              max_step=1e-5, \\\n              dense_output=False, \\\n              **options):\n    t0, tf = t_span\n    scheme = ExplicitEuler(fun, t0, y0, max_step, tf)\n\n    result = {}\n    t, y = [t0], [y0]\n    try:\n        while t[-1] < tf:\n            scheme.step()\n            t.append(scheme.t)\n            y.append(scheme.y)\n        result[\"success\"] = True\n    except: # too wide. What can happen here ? nan stuff ?\n        result[\"success\"] = False\n    result[\"t\"] = t = array(t)\n    result[\"y\"] = y = array(y)\n    if dense_output:\n        result[\"sol\"] = interpolate(t, y)\n    else:\n        result[\"sol\"] = None\n    return result  "
    },
    {
      "cell_type": "markdown",
      "metadata": {},
      "source": "------------------------------------------------------------------------\n"
    },
    {
      "cell_type": "code",
      "execution_count": 15,
      "metadata": {},
      "outputs": [],
      "source": "def fun(t, y):\n    return y\n\nt0, tf, y0 = 0.0, 5.0, array([1.0])\nresult = solve_ivp(fun, (t0, tf), y0, \\\n                   max_step=0.25, \\\n                   dense_output=True)"
    },
    {
      "cell_type": "markdown",
      "metadata": {},
      "source": "------------------------------------------------------------------------\n"
    },
    {
      "cell_type": "code",
      "execution_count": 16,
      "metadata": {},
      "outputs": [],
      "source": "td, yd = result[\"t\"], result[\"y\"]\nt = linspace(t0, tf, 1000)\ny = result[\"sol\"](t)\nfigure()\nplot(t, exp(t), \"k\")\nplot(t, y.T, \"k--\")\nplot(td, yd, \"k+\")"
    },
    {
      "cell_type": "markdown",
      "metadata": {},
      "source": "------------------------------------------------------------------------\n"
    },
    {
      "cell_type": "markdown",
      "metadata": {},
      "source": "**global solution:** a differentiable function\n"
    },
    {
      "cell_type": "markdown",
      "metadata": {},
      "source": "$$\n  x: t\\in  \\left[t_0, +\\infty \\right[ \\mapsto x(t) \\in \\mathbb{R}^n,\n  $$\n"
    },
    {
      "cell_type": "markdown",
      "metadata": {},
      "source": "such that:\n"
    },
    {
      "cell_type": "markdown",
      "metadata": {},
      "source": "-   $x(t_0) = x_0$ and\n\n-   for every $t \\geq 0$, $\\dot{x}(t) = f(x(t))$.\n"
    },
    {
      "cell_type": "markdown",
      "metadata": {},
      "source": "The value $x(t_0)$ is the **initial value**, the time $t_0$ is the\n**initial time** and the pair $(x_0, t_0)$ is the **initial condition**.\n"
    },
    {
      "cell_type": "markdown",
      "metadata": {},
      "source": "------------------------------------------------------------------------\n"
    },
    {
      "cell_type": "markdown",
      "metadata": {},
      "source": "### Variants and Extensions\n"
    },
    {
      "cell_type": "markdown",
      "metadata": {},
      "source": "#### Initial Time\n"
    },
    {
      "cell_type": "markdown",
      "metadata": {},
      "source": "We often let the initial time $t_0$ is unspecified. In this case we will\nassume that it is zero. It makes sense since we can deduce the set of\nsolutions in the general case of an initial condition $(x_0, t_0)$ from\nthe set of solution with initial condition $(x_0, 0)$: the function\n$y:\\left[t_0, +\\infty\\right[$ is a solution of the former if and only if\n$$\n  x: t \\in \\left[0, +\\infty \\right[ \\to x(t) = y(t-t_0)\n  $$ is a solution of the latter.\n"
    },
    {
      "cell_type": "markdown",
      "metadata": {},
      "source": "------------------------------------------------------------------------\n"
    },
    {
      "cell_type": "markdown",
      "metadata": {},
      "source": "#### Future and Past\n"
    },
    {
      "cell_type": "markdown",
      "metadata": {},
      "source": "Some authors require a global solution to be defined for any time $t$ in\nthe future of the initial time $t_0$ but also for any value in its past,\nand thus for any $t \\in \\left]-\\infty, +\\infty \\right[$. We don\u2019t abide\nto this definition by default since it makes the terminology of \u201cinitial\ntime\u201d a bit confusing. However, if the need arises, we may characterize\nsuch a solution\n$x: t \\in \\left]-\\infty, +\\infty \\right[ \\to \\mathbb{R}^n$ by two\nclassic global solutions: $x^+(t)$, defined for $t \\geq 0$ as a solution\nof the IVP $$\n  x^+(0) = x_0 \\; \\mbox{ and } \\; \\dot{x}^+ = f(x^+).\n  $$ and the solution $x^-(t)$, also defined for $t \\geq 0$ but a\nsolution of the IVP with a reverse right-hand side $$\n  x^-(0) = x_0 \\; \\mbox{ and } \\; \\dot{x}^- = - f(x^-).\n  $$ The complete solution is then given by $$\n  x(t) \n  = \n  \\left|\n  \\begin{array}{ll}\n  x^+(t) & \\mbox{if } \\; t \\geq 0 \\\\\n  x^-(-t) & \\mbox{if } \\; t < 0. \\\\\n  \\end{array}\n  \\right.\n  $$\n"
    },
    {
      "cell_type": "markdown",
      "metadata": {},
      "source": "### Complex-Valued Differential Equations\n"
    },
    {
      "cell_type": "markdown",
      "metadata": {},
      "source": "**TODO.**\n"
    },
    {
      "cell_type": "markdown",
      "metadata": {},
      "source": "Local Solutions\n---------------\n"
    },
    {
      "cell_type": "markdown",
      "metadata": {},
      "source": "The concept of global solution is sometimes too stringent.\n"
    },
    {
      "cell_type": "markdown",
      "metadata": {},
      "source": "Consider for example:\n"
    },
    {
      "cell_type": "markdown",
      "metadata": {},
      "source": "$$\n  \\dot{x} = x^2 \\; \\mbox{ and } \\; x(0)=1\n  $$\n"
    },
    {
      "cell_type": "markdown",
      "metadata": {},
      "source": "------------------------------------------------------------------------\n"
    },
    {
      "cell_type": "code",
      "execution_count": 17,
      "metadata": {},
      "outputs": [],
      "source": "def fun(t, y):\n    return y * y\nt0, tf, y0 = 0.0, 5.0, array([1.0])\nresult = solve_ivp(fun, t_span=[t0, tf], y0=y0)\nfigure()\nplot(result[\"t\"], result[\"y\"], \"k\")"
    },
    {
      "cell_type": "markdown",
      "metadata": {},
      "source": "------------------------------------------------------------------------\n"
    },
    {
      "cell_type": "markdown",
      "metadata": {},
      "source": "Ouch.\n"
    },
    {
      "cell_type": "markdown",
      "metadata": {},
      "source": "There is actually no **global** solution.\n"
    },
    {
      "cell_type": "markdown",
      "metadata": {},
      "source": "However \u2026\n"
    },
    {
      "cell_type": "markdown",
      "metadata": {},
      "source": "------------------------------------------------------------------------\n"
    },
    {
      "cell_type": "markdown",
      "metadata": {},
      "source": "There is **local** solution defined for $t \\in \\left[t_0, t_f\\right[$\\\nfor some $t_f > t_0$.\n"
    },
    {
      "cell_type": "markdown",
      "metadata": {},
      "source": "Indeed, let $t_f=1$; the function\n"
    },
    {
      "cell_type": "markdown",
      "metadata": {},
      "source": "$$\n  x(t) = \\frac{1}{1 - t}, t \\in \\left[0, 1\\right[ \n  $$\n"
    },
    {
      "cell_type": "markdown",
      "metadata": {},
      "source": "satisfies\n"
    },
    {
      "cell_type": "markdown",
      "metadata": {},
      "source": "-   for every $t \\in \\left[t_0, t_f\\right[$, $\\dot{x}(t) = f(x(t))$,\n\n-   $x(t_0) = x_0$.\n"
    },
    {
      "cell_type": "markdown",
      "metadata": {},
      "source": "------------------------------------------------------------------------\n"
    },
    {
      "cell_type": "markdown",
      "metadata": {},
      "source": "**TODO:** another plot (different scale ?) \u2026 or before ? Yup before.\nMakes sense to zoom when faced with the initial graph, not after.\n"
    },
    {
      "cell_type": "markdown",
      "metadata": {},
      "source": "------------------------------------------------------------------------\n"
    },
    {
      "cell_type": "markdown",
      "metadata": {},
      "source": "This solution is also **maximal**:\n"
    },
    {
      "cell_type": "markdown",
      "metadata": {},
      "source": "You cannot extend this solution beyond $t_f=1.0$.\n"
    },
    {
      "cell_type": "markdown",
      "metadata": {},
      "source": "You know that a local solution is **maximal** when\n"
    },
    {
      "cell_type": "markdown",
      "metadata": {},
      "source": "$$\n  \\lim_{t \\to t_f} \\|x(t)\\| = +\\infty.\n  $$\n"
    },
    {
      "cell_type": "markdown",
      "metadata": {},
      "source": "------------------------------------------------------------------------\n"
    },
    {
      "cell_type": "markdown",
      "metadata": {},
      "source": "The existence of a (at least one) maximal solution of the IVP\n"
    },
    {
      "cell_type": "markdown",
      "metadata": {},
      "source": "$$\n  \\dot{x} = f(x) \\; \\mbox{ and } \\;  x(t_0) = x_0 \n  $$\n"
    },
    {
      "cell_type": "markdown",
      "metadata": {},
      "source": "is guaranteed when $f$ is continuous.\n"
    },
    {
      "cell_type": "markdown",
      "metadata": {},
      "source": "Uniqueness\n----------\n"
    },
    {
      "cell_type": "markdown",
      "metadata": {},
      "source": "**TODO.**\n"
    },
    {
      "cell_type": "markdown",
      "metadata": {},
      "source": "Continuity wrt the Initial Value\n--------------------------------\n"
    },
    {
      "cell_type": "markdown",
      "metadata": {},
      "source": "(and concept of Well-Posedness)\n"
    },
    {
      "cell_type": "markdown",
      "metadata": {},
      "source": "------------------------------------------------------------------------\n"
    },
    {
      "cell_type": "markdown",
      "metadata": {},
      "source": "#### Example \u2013 Finite-Time Blow-Up\n"
    },
    {
      "cell_type": "markdown",
      "metadata": {},
      "source": "Suppose that $x(t)$ is a global solution of the scalar initial-value\nproblem\n"
    },
    {
      "cell_type": "markdown",
      "metadata": {},
      "source": "$$\n  x(0) = x_0 > 0 \\; \\mbox{ and } \\; \\dot{x} = x^2.\n  $$\n"
    },
    {
      "cell_type": "markdown",
      "metadata": {},
      "source": "Since the initial value of $x(t)$ is positive and for any $t\\geq 0$,\n$\\dot{x}(t) = x(t)^2 \\geq 0$, $x(t)$ is positive for any $t\\geq 0$.\nTherefore, the expression $1/x(t)$ is defined and differentiable for any\nsuch $t$; its derivative satisfies $$\n  \\frac{d}{dt}\\left[ \\frac{1}{x(t)}\\right]\n  = - \\frac{\\dot{x}(t)}{x(t)^2}\n  = -1\n  $$ and thus by integration $$\n  \\frac{1}{x(t)} - \\frac{1}{x_0} = -t\n  $$ which leads to $$\n  x(t) = \\frac{x_0}{1 - t x_0}.\n  $$ Thus, the existence of a global solution is impossible: such a\nsolution would be undefined at time $t = 1/x_0$.\n"
    },
    {
      "cell_type": "markdown",
      "metadata": {},
      "source": "------------------------------------------------------------------------\n"
    },
    {
      "cell_type": "markdown",
      "metadata": {},
      "source": "The concept of local solution can be more appropriate. It is a function\n$x(t)$ defined when $t$ belongs to some interval $I$ of\n$\\left[t_0, +\\infty\\right[$ such that for some $\\epsilon > 0$,\n$[t_0, t_0 +\\varepsilon] \\subset I$ and for any $t \\in I$,\n$\\dot{x}(t) = f(x(t))$. In particular if $x$ is a global solution of the\nIVP, $I = \\left[0, +\\infty\\right[ = \\mathbb{R}$ is acceptable, and thus\nevery global solution is a a local solution.\n"
    },
    {
      "cell_type": "markdown",
      "metadata": {},
      "source": "------------------------------------------------------------------------\n"
    },
    {
      "cell_type": "markdown",
      "metadata": {},
      "source": "#### Example \u2013 Finite-Time Blow-Up\n"
    },
    {
      "cell_type": "markdown",
      "metadata": {},
      "source": "We now search for a local solution to the IVP $x(0) = x_0 > 0$ and\n$\\dot{x} = x^2$. Since $1 - t x_0 \\neq 0$ when $t \\neq 1/x_0$, we could\ndefine a function $$\n  x(t) = \\frac{x_0}{1 - t x_0}\n  $$ for any\n$t \\in \\left]-\\infty, 1/x_0\\right[ \\cup \\left]1/x_0, +\\infty \\right[$,\nbut this domain of definition is not an appropriate interval. So\ninstead, we can use the largest subinterval of\n$\\left[0, +\\infty \\right]$ that contains $0$, which is\n$I = \\left[0, 1/x_0\\right[$. It always contains the interval\n$[0, \\varepsilon]$ with $\\varepsilon = 1/2x_0 > 0$ for example.\nAdditionally, for any $t \\in I$ $$\n  \\dot{x}(t) = - \\frac{x_0}{1 - t x_0} \\times (-x_0) = \n  \\left( \\frac{x_0}{1 - tx_0}\\right)^2 = x(t)^2,\n  $$ hence $x(t)$ is a local solution of the IVP.\n"
    },
    {
      "cell_type": "markdown",
      "metadata": {},
      "source": "------------------------------------------------------------------------\n"
    },
    {
      "cell_type": "markdown",
      "metadata": {},
      "source": "Existence\n---------\n"
    },
    {
      "cell_type": "markdown",
      "metadata": {},
      "source": "### Local Existence\n"
    },
    {
      "cell_type": "markdown",
      "metadata": {},
      "source": "While global solutions may not exist in many cases, a mild condition\nensures the existence of at least one local solution: that the\nright-hand side $f$ of the IVP is continuous. Actually, it\u2019s pretty easy\nto design an IVP with discontinuous right-hand side for which even no\nlocal solution exist:\n"
    },
    {
      "cell_type": "markdown",
      "metadata": {},
      "source": "#### Example - Discontinuous Vector Field\n"
    },
    {
      "cell_type": "markdown",
      "metadata": {},
      "source": "Consider the scalar IVP with initial value $x(0) = 0$ and right-hand\nside $$\n  f(x) = \n  \\left|\n  \\begin{array}{rl}\n  +1 & \\mbox{if } \\; x < 0 \\\\\n  -1 & \\mbox{if } \\; x > 0.\n  \\end{array}\n  \\right.\n  $$ Assume that $x: I \\to \\mathbb{R}$ is a local solution of this IVP\nand left $\\varepsilon > 0$ be such that $[0,\\varepsilon] \\subset I$.\nSince $\\dot{x}(0) = +1 > 0$, for some small enough $0 < \\tau < \\epsilon$\nand any $t \\in [0, \\tau]$, we have $x(t) > 0$. Consequently,\n$\\dot{x}(t) = -1$ and thus by integration $$\n  x(\\tau) =  x(0) + \\int_0^{\\tau} \\dot{x}(t) \\, dt = 0 - t < 0,\n  $$ which is a contradiction. Thus there is no local solution to this\nIVP.\n"
    },
    {
      "cell_type": "markdown",
      "metadata": {},
      "source": "### Maximal Solutions\n"
    },
    {
      "cell_type": "markdown",
      "metadata": {},
      "source": "**TODO**: existence and \u201cout-of-any-compact\u201d trick.\n"
    },
    {
      "cell_type": "markdown",
      "metadata": {},
      "source": "Statement: ???\n"
    },
    {
      "cell_type": "markdown",
      "metadata": {},
      "source": "### Global Existence\n"
    },
    {
      "cell_type": "markdown",
      "metadata": {},
      "source": "**TODO:** explain contraposition trick / a priori estimate: if we know a\nmaximal solution cannot escape some bounded set in a given time range,\nwe also know that its \u201cescape time\u201d is out of the range.\n"
    },
    {
      "cell_type": "markdown",
      "metadata": {},
      "source": "### Example \u2013 Global Existence\n"
    },
    {
      "cell_type": "markdown",
      "metadata": {},
      "source": "Consider the scalar ODE $$\n  \\dot{x} = \\frac{e^x}{e^x + 1} \n  $$ associated to the initial condition $(t_0=0, x_0=0)$. The\nright-hand side of this equation is continuous, hence at least one\nmaximal solution $x(t)$ defined for $t \\in \\left[0, t_{\\infty}\\right[$\nexists. We can show that $t_{\\infty} = +\\infty$, or in other words that\nthis solution is global. Indeed, the vector field is bounded: for any\n$x \\in \\mathbb{R}$, $$\n  \\left| \\frac{e^x}{e^x + 1} \\right| \\leq 1\n  $$ and thus, for any finite $t \\in \\left[0,t_{\\infty} \\right[$, $$\n  |x(t)| \\leq \\int_{0}^ t 1 \\, d\\tau \\leq t.  \n  $$ Thus, if $t_{\\infty}$ is finite, for any $0 \\leq t < t_{\\infty}$,\n$x(t)$ belongs to the interval $[-t_{\\infty}, t_{\\infty}]$ which is\nbounded.\n"
    },
    {
      "cell_type": "markdown",
      "metadata": {},
      "source": "**TODO** something lacks here and the formulation above should be clear\nbefore I polish the conclusion here.\n"
    },
    {
      "cell_type": "markdown",
      "metadata": {},
      "source": "Prey-Predator\n-------------\n"
    },
    {
      "cell_type": "markdown",
      "metadata": {},
      "source": "------------------------------------------------------------------------\n"
    },
    {
      "cell_type": "markdown",
      "metadata": {},
      "source": "### Uniqueness\n"
    },
    {
      "cell_type": "markdown",
      "metadata": {},
      "source": "Uniqueness is guaranteed if $f$ is continuous and\n$\\partial f / \\partial x$ exists and is continuous.\n"
    },
    {
      "cell_type": "markdown",
      "metadata": {},
      "source": "**TODO:** maximal solution (free), refer to example. Explain why that\nmakes sense. Also explain why we always define such solution on open\nintervals (a closed one cannot be maximal). Carac des sols maximals\n(non-born\u00e9es) et par contraposition, sol max born\u00e9es donne global.\nExemple ? (vectoriel, lin ou a sat avec sigmoide ?).\n"
    },
    {
      "cell_type": "markdown",
      "metadata": {},
      "source": "**TODO:** Uniqueness\n"
    },
    {
      "cell_type": "markdown",
      "metadata": {},
      "source": "**TODO:** Well-Posedness.\n"
    },
    {
      "cell_type": "markdown",
      "metadata": {},
      "source": "\\newpage\n"
    },
    {
      "cell_type": "markdown",
      "metadata": {},
      "source": "------------------------------------------------------------------------\n"
    },
    {
      "cell_type": "markdown",
      "metadata": {},
      "source": "We consider the initial-value problem (IVP) $$\n  \\dot{x} = f(t, x), \\; x(t_0) = x_0\n  $$ where $f: I \\times U \\to \\mathbb{R}^n$, $I$ is an open interval of\n$\\mathbb{R}$, $t_0 \\in I$, $U$ is an open subset of $\\mathbb{R}^n$ and\n$x_0 \\in U$.\n"
    },
    {
      "cell_type": "markdown",
      "metadata": {},
      "source": "A classical solution of this problem is a function\n$x: J \\to \\mathbb{R}^n$, where $J$ is an open interval of $\\mathbb{R}$\nsuch that\n"
    },
    {
      "cell_type": "markdown",
      "metadata": {},
      "source": "Why open sets ? What do we do with $t$ ?\n"
    },
    {
      "cell_type": "markdown",
      "metadata": {},
      "source": "Continuous right-hand side: delivers local existence. Local existence is\nitself equivalent to existence of maximal solution.\n"
    },
    {
      "cell_type": "markdown",
      "metadata": {},
      "source": "Continuous $\\partial f / \\partial x$: delivers uniqueness (and\nwell-posedness ?)\n"
    },
    {
      "cell_type": "markdown",
      "metadata": {},
      "source": "### Well-Posedness\n"
    },
    {
      "cell_type": "markdown",
      "metadata": {},
      "source": "Local Existence, Maximal Solutions, Uniqueness, Continuity wrt initial\nvalues.\n"
    },
    {
      "cell_type": "markdown",
      "metadata": {},
      "source": "Explain why that stuff matters. Uniqueness and continuity is rather\nobvious, but not \u201crobustness\u201d. Explain as \u201cchaos\u201d, as unability to\nimplement a proper numerical simulation ? Think of the pendulum and the\ninitial angle of $\\pi/4$ that CANNOT be stored exactly on the computer.\nSame for the rhs.\n"
    },
    {
      "cell_type": "markdown",
      "metadata": {},
      "source": "### Irregular Right-Hand Sides\n"
    },
    {
      "cell_type": "markdown",
      "metadata": {},
      "source": "\u201cAbsolutely continuous\u201d solutions:\n"
    },
    {
      "cell_type": "markdown",
      "metadata": {},
      "source": "$$\n  f(t) = \\int_{t_0}^t g(s) \\, ds\n  $$\n"
    },
    {
      "cell_type": "markdown",
      "metadata": {},
      "source": "$$\n  x(t) = x_0 + \\int_{t_0}^t f(s, x(s))\\, ds\n  $$\n"
    },
    {
      "cell_type": "markdown",
      "metadata": {},
      "source": "Discont wrt $x$ and Filipov solutions.\n"
    },
    {
      "cell_type": "markdown",
      "metadata": {},
      "source": "------------------------------------------------------------------------\n"
    },
    {
      "cell_type": "markdown",
      "metadata": {},
      "source": "General \u201cwhat can go wrong approach\u201d for the existence and uniqueness of\nODEs.\n"
    },
    {
      "cell_type": "markdown",
      "metadata": {},
      "source": "Start with autonomous equations.\n"
    },
    {
      "cell_type": "markdown",
      "metadata": {},
      "source": "Go for simple \u201creally-differential-equations\u201d with continuity of $f$ and\n$\\partial f / \\partial x$ stuff.\n"
    },
    {
      "cell_type": "markdown",
      "metadata": {},
      "source": "Local existence and local uniqueness can be splitted.\n"
    },
    {
      "cell_type": "markdown",
      "metadata": {},
      "source": "Deal with time-reversal somehow ?\n"
    },
    {
      "cell_type": "markdown",
      "metadata": {},
      "source": "Consequence of uniqueness (combined with time-reversal): ex: show that\nyou cannot reach a boundary where the rhs is zero in finite time.\n"
    },
    {
      "cell_type": "markdown",
      "metadata": {},
      "source": "Complete well-posedness to account for continuity wrt initial condition\n?\n"
    },
    {
      "cell_type": "markdown",
      "metadata": {},
      "source": "Show that local existence and uniqueness implies that NON-existence\nmeans getting out of every compact set (under the form of: either going\nto infinity or approaching the boundary arbitrarily close.)\n"
    },
    {
      "cell_type": "markdown",
      "metadata": {},
      "source": "Application: linear equation $\\dot{x} = A x$. Show that the derivative\nof $y = |x|^2$ is dominated by $2\\|A\\|y$ and thus with $a=\\|A\\|$ that\n$|y|(t) \\leq e^{at} |y|(0)$ (proof ?) which forbids $x$ to go to\n$+\\infty$.\n"
    },
    {
      "cell_type": "markdown",
      "metadata": {},
      "source": "Same kind of stuff via invariant in the prey-predator model ? Yes. The\nmodel $\\dot{x} = \\alpha x - \\beta x y$ and\n$\\dot{y} = \\delta xy - \\gamma y$ has the invariant\n$\\delta x - \\gamma \\ln x +\\beta y - \\alpha \\ln y$, which is good enough\nto prove global existence.\n"
    },
    {
      "cell_type": "markdown",
      "metadata": {},
      "source": "Flow notation.\n"
    },
    {
      "cell_type": "markdown",
      "metadata": {},
      "source": "Trick to include the time in this framework and how to deal with $n$-th\norder equations.\n"
    },
    {
      "cell_type": "markdown",
      "metadata": {},
      "source": "\u201cFix\u201d this later to account for discontinuous stuff wrt $t$, if\nnecessary.\n"
    },
    {
      "cell_type": "markdown",
      "metadata": {},
      "source": "Prey-Predator Models\n--------------------\n"
    },
    {
      "cell_type": "code",
      "execution_count": 18,
      "metadata": {},
      "outputs": [],
      "source": "pp.figure()\n\nY, X = np.mgrid[0.0:2.0:200j, 0.0:4.0:200j]\n\nalpha = 2 / 3\nbeta = 4 / 3\ndelta = gamma = 1.0\nU = alpha * X - beta * X * Y\nV = delta * X * Y - gamma * Y\n\npp.axes().set_aspect(1.0)\npp.axes().axis([0.0, 4.0, 0.0, 2.0])    \n\npp.streamplot(X, Y, U, V, color=\"k\")"
    },
    {
      "cell_type": "markdown",
      "metadata": {},
      "source": "TODO:\n-----\n"
    },
    {
      "cell_type": "markdown",
      "metadata": {},
      "source": "-   split notebook and slides settings. Mmm how deal with styles ? Have\n    \u201cstandard options\u201d for notebook and slides and use them beforehand\n    in some option stuff ? Or duplicate the plot code, this is not such\n    a big deal.\n"
    },
    {
      "cell_type": "markdown",
      "metadata": {},
      "source": "------------------------------------------------------------------------\n"
    },
    {
      "cell_type": "markdown",
      "metadata": {},
      "source": "![](images/prey-predator.svg)\n"
    },
    {
      "cell_type": "markdown",
      "metadata": {},
      "source": "Equilibrium\n-----------\n"
    },
    {
      "cell_type": "markdown",
      "metadata": {},
      "source": "**TODO**\n"
    },
    {
      "cell_type": "markdown",
      "metadata": {},
      "source": "Long-Term Behavior\n==================\n"
    },
    {
      "cell_type": "markdown",
      "metadata": {},
      "source": "Lorenz System\n-------------\n"
    },
    {
      "cell_type": "markdown",
      "metadata": {},
      "source": "$$\n  \\begin{array}{lll}\n  \\dot{x} &=& \\sigma (y - x) \\\\\n  \\dot{y} &=& x (\\rho - z) \\\\\n  \\dot{z} &=& xy - \\beta z \n  \\end{array}\n  $$\n"
    },
    {
      "cell_type": "markdown",
      "metadata": {},
      "source": "------------------------------------------------------------------------\n"
    },
    {
      "cell_type": "markdown",
      "metadata": {},
      "source": "[![](images/static/lorenz-attractor.png)](https://portsmouth.github.io/fibre/?settings=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%3D)\n"
    },
    {
      "cell_type": "markdown",
      "metadata": {},
      "source": "Visualized with\n[<i class=\"fab fa-github\"></i>/Fibre](https://github.com/portsmouth/fibre)\n"
    },
    {
      "cell_type": "markdown",
      "metadata": {},
      "source": "Hadley System\n-------------\n"
    },
    {
      "cell_type": "markdown",
      "metadata": {},
      "source": "$$\n  \\begin{array}{lll}\n  \\dot{x} &=& -y^2 - z^2 - ax + af\\\\\n  \\dot{y} &=& xy - b xz - y + g \\\\\n  \\dot{z} &=& bxy + xz - z\n  \\end{array}\n  $$\n"
    },
    {
      "cell_type": "markdown",
      "metadata": {},
      "source": "------------------------------------------------------------------------\n"
    },
    {
      "cell_type": "markdown",
      "metadata": {},
      "source": "[![](images/static/hadley-attractor.png)](https://portsmouth.github.io/fibre/?settings=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%3D%3D)\n"
    },
    {
      "cell_type": "markdown",
      "metadata": {},
      "source": "Visualized with\n[<i class=\"fab fa-github\"></i>/Fibre](https://github.com/portsmouth/fibre)\n"
    },
    {
      "cell_type": "markdown",
      "metadata": {},
      "source": "Stability\n---------\n"
    },
    {
      "cell_type": "markdown",
      "metadata": {},
      "source": "About the long-term behavior of solutions.\n"
    },
    {
      "cell_type": "markdown",
      "metadata": {},
      "source": "-   \u201cStability\u201d subtle concept,\n\n-   \u201cAsymptotic Stability\u201d simpler (and stronger),\n\n-   \u201cAttractivity\u201d simpler yet, (but often too weak).\n"
    },
    {
      "cell_type": "markdown",
      "metadata": {},
      "source": "Attractivity\n------------\n"
    },
    {
      "cell_type": "markdown",
      "metadata": {},
      "source": "Consider an ODE $\\dot{x} = f(x)$ s.t. the associated IVP is well-posed\nfor any initial condition.\n"
    },
    {
      "cell_type": "markdown",
      "metadata": {},
      "source": "An equilibrium $x_e$ is **globally attractive** if the solution $x(t)$\nof the IVP with $x(0)=x_0$ always exists globally and $$\n  \\lim_{t \\to +\\infty} x(t) = x_e.\n  $$\n"
    },
    {
      "cell_type": "markdown",
      "metadata": {},
      "source": "TODO\n----\n"
    },
    {
      "cell_type": "markdown",
      "metadata": {},
      "source": "Simple example \u201cthat works\u201d.\n"
    },
    {
      "cell_type": "markdown",
      "metadata": {},
      "source": "TODO\n----\n"
    },
    {
      "cell_type": "markdown",
      "metadata": {},
      "source": "Explain uniformity wrt IV; how locally uniform actually means\nsemi-globally uniform.\n"
    },
    {
      "cell_type": "markdown",
      "metadata": {},
      "source": "Counter-Example\n---------------\n"
    },
    {
      "cell_type": "markdown",
      "metadata": {},
      "source": "$$\n  \\left|\n  \\begin{array}{lll}\n  \\dot{x} &=& x + xy - (x + y)\\sqrt{x^2 + y^2} \\\\\n  \\dot{y} &=& y - x^2 + (x - y) \\sqrt{x^2 + y^2}\n  \\end{array}\n  \\right.\n  $$\n"
    },
    {
      "cell_type": "markdown",
      "metadata": {},
      "source": "------------------------------------------------------------------------\n"
    },
    {
      "cell_type": "markdown",
      "metadata": {},
      "source": "In polar coordinates, in the plane:\n"
    },
    {
      "cell_type": "markdown",
      "metadata": {},
      "source": "$$\n  \\left|\n  \\begin{array}{lll}\n  \\dot{r} &=& r (1 - r) \\\\\n  \\dot{\\theta} &=& r (1 - \\cos \\theta)\n  \\end{array}\n  \\right.\n  $$\n"
    },
    {
      "cell_type": "markdown",
      "metadata": {},
      "source": "Stream Plot\n-----------\n"
    },
    {
      "cell_type": "code",
      "execution_count": 19,
      "metadata": {},
      "outputs": [],
      "source": "def f(xy):\n    x, y = xy[0], xy[1]\n    r = sqrt(x*x + y*y)\n    dx = x + x * y - (x + y) * r\n    dy = y - x * x + (x - y) * r\n    return array([dx, dy])"
    },
    {
      "cell_type": "markdown",
      "metadata": {},
      "source": "------------------------------------------------------------------------\n"
    },
    {
      "cell_type": "code",
      "execution_count": 20,
      "metadata": {},
      "outputs": [],
      "source": "figure()\nx = arange(-2.0, 2.0, 0.1)\ny = arange(-2.0, 2.0, 0.1)\nquiver(*Q(f, x, y)) "
    },
    {
      "cell_type": "markdown",
      "metadata": {},
      "source": "------------------------------------------------------------------------\n"
    },
    {
      "cell_type": "markdown",
      "metadata": {},
      "source": "------------------------------------------------------------------------\n"
    },
    {
      "cell_type": "code",
      "execution_count": 21,
      "metadata": {},
      "outputs": [],
      "source": "figure()\nstreamplot(*Q(f, x, y), color=\"k\") \n    "
    },
    {
      "cell_type": "markdown",
      "metadata": {},
      "source": "------------------------------------------------------------------------\n"
    },
    {
      "cell_type": "markdown",
      "metadata": {},
      "source": "<style>\n\n.reveal section img {\n  border:0;\n  height:50vh;\n  width:auto;\n\n}\n\n.reveal section img.medium {\n  border:0;\n  max-width:50vh;\n}\n\n.reveal section img.icon {\n  display:inline;\n  border:0;\n  width:1em;\n  margin:0em;\n  box-shadow:none;\n  vertical-align:-10%;\n}\n\n.reveal code {\n  font-family: Inconsolata, monospace;\n}\n\n.reveal pre code {\n  font-size: 1.5em;\n  line-height: 1.5em;\n  /* max-height: 80wh; won't work, overriden */\n}\n\ninput {\n  font-family: \"Source Sans Pro\", Helvetica, sans-serif;\n  font-size: 42px;\n  line-height: 54.6px;\n}\n\n</style>\n"
    },
    {
      "cell_type": "markdown",
      "metadata": {},
      "source": "<link href=\"https://fonts.googleapis.com/css?family=Inconsolata:400,700\" rel=\"stylesheet\">\n<link rel=\"stylesheet\" href=\"https://use.fontawesome.com/releases/v5.6.3/css/all.css\" integrity=\"sha384-UHRtZLI+pbxtHCWp1t77Bi1L4ZtiqrqD80Kn4Z8NTSRyMA2Fd33n5dQ8lWUE00s/\" crossorigin=\"anonymous\">\n"
    }
  ],
  "metadata": {
    "kernelspec": {
      "display_name": "Python 3",
      "language": "python",
      "name": "python3"
    },
    "language_info": {
      "codemirror_mode": {
        "name": "ipython",
        "version": 3
      },
      "file_extension": ".py",
      "mimetype": "text/x-python",
      "name": "python",
      "nbconvert_exporter": "python",
      "pygments_lexer": "ipython3",
      "version": "3.6.4"
    }
  },
  "nbformat": 4,
  "nbformat_minor": 2
}