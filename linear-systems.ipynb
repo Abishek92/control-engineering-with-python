{
  "cells": [
    {
      "cell_type": "markdown",
      "metadata": {},
      "source": "Misc.\n=====\n"
    },
    {
      "cell_type": "markdown",
      "metadata": {},
      "source": "Nonlinear to Linear: Done Before/Reminder\n-----------------------------------------\n"
    },
    {
      "cell_type": "markdown",
      "metadata": {},
      "source": "Steps: (approx): equilibrium, error variables, etc.\n"
    },
    {
      "cell_type": "markdown",
      "metadata": {},
      "source": "Here or in the previous slides ?\n"
    },
    {
      "cell_type": "markdown",
      "metadata": {},
      "source": "Explain LTI concept, with emphasis on LTI ?\n"
    },
    {
      "cell_type": "markdown",
      "metadata": {},
      "source": "Standard Form\n-------------\n"
    },
    {
      "cell_type": "markdown",
      "metadata": {},
      "source": "(explain Finite-Dim Hyp ?)\n"
    },
    {
      "cell_type": "markdown",
      "metadata": {},
      "source": "$$\n  \\begin{array}{c}\n  \\dot{x} &=& A x + B u \\\\\n  y       &=& C x + D u\n  \\end{array}\n  $$\n"
    },
    {
      "cell_type": "markdown",
      "metadata": {},
      "source": "TODO: check well-posedness.\n"
    },
    {
      "cell_type": "markdown",
      "metadata": {},
      "source": "------------------------------------------------------------------------\n"
    },
    {
      "cell_type": "markdown",
      "metadata": {},
      "source": "$x \\in \\mathbb{R}^n,$ $u \\in \\mathbb{R}^m$, $y \\in \\mathbb{R}^p$.\n"
    },
    {
      "cell_type": "markdown",
      "metadata": {},
      "source": "$A \\in \\mathbb{R}^{n\\times n}$, etc.\n"
    },
    {
      "cell_type": "markdown",
      "metadata": {},
      "source": "------------------------------------------------------------------------\n"
    },
    {
      "cell_type": "markdown",
      "metadata": {},
      "source": "Several \u201cinterpretations\u201d of the system, where do we talk about this:\n"
    },
    {
      "cell_type": "markdown",
      "metadata": {},
      "source": "-   \u201cgeneral case\u201d classic IVP, $t \\geq 0$, initial condition\n"
    },
    {
      "cell_type": "markdown",
      "metadata": {},
      "source": "But the study can be split in two \u201cextreme\u201d modes (proof !):\n"
    },
    {
      "cell_type": "markdown",
      "metadata": {},
      "source": "-   autonomous mode / internal dynamics: influence of $x_0$ only,\n    without $u$ or $y$. We can always pick $t_0 = 0$.\n\n-   $x_0 = 0$, input-to-state or input-to-output behavior. Optionnaly,\n    $t_0$ rejected to $-\\infty$ (necessary ?).\n"
    },
    {
      "cell_type": "markdown",
      "metadata": {},
      "source": "Stability\n---------\n"
    },
    {
      "cell_type": "markdown",
      "metadata": {},
      "source": "Stability concepts simplify/\u201ccollapse\u201d for LTI systems:\n"
    },
    {
      "cell_type": "markdown",
      "metadata": {},
      "source": "-   A system is locally A.S. iff it is globally A.S.\n"
    },
    {
      "cell_type": "markdown",
      "metadata": {},
      "source": "**TODO:** explain in two drawings here why.\n"
    },
    {
      "cell_type": "markdown",
      "metadata": {},
      "source": "Therefore we just say \u201casymptotically stable\u201d\n"
    },
    {
      "cell_type": "markdown",
      "metadata": {},
      "source": "-   The origin is attractive iff it is asymptotically stable.\n"
    },
    {
      "cell_type": "markdown",
      "metadata": {},
      "source": "(Q: A.S. qualifier applied to the equilibrium point or system ?)\n"
    },
    {
      "cell_type": "markdown",
      "metadata": {},
      "source": "Explicit Solution\n-----------------\n"
    },
    {
      "cell_type": "markdown",
      "metadata": {},
      "source": "Internal Dynamics:\n"
    },
    {
      "cell_type": "markdown",
      "metadata": {},
      "source": "$$\n  x(t) = e^{At} x_0\n  $$\n"
    },
    {
      "cell_type": "markdown",
      "metadata": {},
      "source": "(need some details here on exponential, corresponding code with `expm`,\netc.).\n"
    },
    {
      "cell_type": "markdown",
      "metadata": {},
      "source": "Solver\n------\n"
    },
    {
      "cell_type": "code",
      "execution_count": 1,
      "metadata": {},
      "outputs": [],
      "source": "@vectorize\ndef x(t):\n    global A, x0\n    A_ = array(A)\n    return expm(A_*t) @ x0"
    },
    {
      "cell_type": "markdown",
      "metadata": {},
      "source": "------------------------------------------------------------------------\n"
    },
    {
      "cell_type": "markdown",
      "metadata": {},
      "source": "External Dynamics: (variation of the constant):\n"
    },
    {
      "cell_type": "markdown",
      "metadata": {},
      "source": "$$\n  y(t) = C \\int_0^t e^{A(t-s)}B u(s) \\, ds + D u(t) \n  $$\n"
    },
    {
      "cell_type": "markdown",
      "metadata": {},
      "source": "Internal Stability\n==================\n"
    },
    {
      "cell_type": "markdown",
      "metadata": {},
      "source": "Scalar Case\n-----------\n"
    },
    {
      "cell_type": "markdown",
      "metadata": {},
      "source": "$$\n  \\dot{x} = a x\n  $$\n"
    },
    {
      "cell_type": "markdown",
      "metadata": {},
      "source": "$a \\in \\mathbb{R}$, $x(0) = x_0 \\in \\mathbb{R}$.\n"
    },
    {
      "cell_type": "markdown",
      "metadata": {},
      "source": "------------------------------------------------------------------------\n"
    },
    {
      "cell_type": "code",
      "execution_count": 2,
      "metadata": {},
      "outputs": [],
      "source": "a = 2.0\n\nA = [[a]]; x0 = [1.0]\nfigure()\nt = linspace(0.0, 3.0, 1000)\nplot(t, x(t), \"k\")\nxlabel(\"$t$\"); ylabel(\"$x(t)$\"); title(f\"$a={a}$\")\ngrid(); axis([0.0, 2.0, 0.0, 10.0])"
    },
    {
      "cell_type": "markdown",
      "metadata": {},
      "source": "------------------------------------------------------------------------\n"
    },
    {
      "cell_type": "markdown",
      "metadata": {},
      "source": "![](images/scalar-LTI-2.svg)\n"
    },
    {
      "cell_type": "markdown",
      "metadata": {},
      "source": "------------------------------------------------------------------------\n"
    },
    {
      "cell_type": "code",
      "execution_count": 3,
      "metadata": {},
      "outputs": [],
      "source": "a = 1.0\n\nA = [[a]]; x0 = [1.0]\nfigure()\nt = linspace(0.0, 3.0, 1000)\nplot(t, x(t), \"k\")\nxlabel(\"$t$\"); ylabel(\"$x(t)$\"); title(f\"$a={a}$\")\ngrid(); axis([0.0, 2.0, 0.0, 10.0])"
    },
    {
      "cell_type": "markdown",
      "metadata": {},
      "source": "------------------------------------------------------------------------\n"
    },
    {
      "cell_type": "markdown",
      "metadata": {},
      "source": "![](images/scalar-LTI-1.svg)\n"
    },
    {
      "cell_type": "markdown",
      "metadata": {},
      "source": "------------------------------------------------------------------------\n"
    },
    {
      "cell_type": "code",
      "execution_count": 4,
      "metadata": {},
      "outputs": [],
      "source": "a = 0.0\n\nA = [[a]]; x0 = [1.0]\nfigure()\nt = linspace(0.0, 3.0, 1000)\nplot(t, x(t), \"k\")\nxlabel(\"$t$\"); ylabel(\"$x(t)$\"); title(f\"$a={a}$\")\ngrid(); axis([0.0, 2.0, 0.0, 10.0])"
    },
    {
      "cell_type": "markdown",
      "metadata": {},
      "source": "------------------------------------------------------------------------\n"
    },
    {
      "cell_type": "markdown",
      "metadata": {},
      "source": "![](images/scalar-LTI-0.svg)\n"
    },
    {
      "cell_type": "markdown",
      "metadata": {},
      "source": "------------------------------------------------------------------------\n"
    },
    {
      "cell_type": "code",
      "execution_count": 5,
      "metadata": {},
      "outputs": [],
      "source": "a = -1.0\n\nA = [[a]]; x0 = [1.0]\nfigure()\nt = linspace(0.0, 3.0, 1000)\nplot(t, x(t), \"k\")\nxlabel(\"$t$\"); ylabel(\"$x(t)$\"); title(f\"$a={a}$\")\ngrid(); axis([0.0, 2.0, 0.0, 10.0])"
    },
    {
      "cell_type": "markdown",
      "metadata": {},
      "source": "------------------------------------------------------------------------\n"
    },
    {
      "cell_type": "markdown",
      "metadata": {},
      "source": "![](images/scalar-LTI-m1.svg)\n"
    },
    {
      "cell_type": "markdown",
      "metadata": {},
      "source": "------------------------------------------------------------------------\n"
    },
    {
      "cell_type": "code",
      "execution_count": 6,
      "metadata": {},
      "outputs": [],
      "source": "a = -2.0\n\nA = [[a]]; x0 = [1.0]\nfigure()\nt = linspace(0.0, 3.0, 1000)\nplot(t, x(t), \"k\")\nxlabel(\"$t$\"); ylabel(\"$x(t)$\"); title(f\"$a={a}$\")\ngrid(); axis([0.0, 2.0, 0.0, 10.0])"
    },
    {
      "cell_type": "markdown",
      "metadata": {},
      "source": "------------------------------------------------------------------------\n"
    },
    {
      "cell_type": "markdown",
      "metadata": {},
      "source": "![](images/scalar-LTI-m2.svg)\n"
    },
    {
      "cell_type": "markdown",
      "metadata": {},
      "source": "------------------------------------------------------------------------\n"
    },
    {
      "cell_type": "code",
      "execution_count": 7,
      "metadata": {},
      "outputs": [],
      "source": "figure()\nt = linspace(0.0, 20.0, 1000)\nA = array([[1.0j]]); x0 = [1.0]\nplot(t, real(x(t)), label=\"$\\mathrm{Re}(x(t))$\")\nplot(t, imag(x(t)), label=\"$\\mathrm{Im}(x(t))$\")\nxlabel(\"$t$\")\nlegend(); grid()"
    },
    {
      "cell_type": "markdown",
      "metadata": {},
      "source": "------------------------------------------------------------------------\n"
    },
    {
      "cell_type": "markdown",
      "metadata": {},
      "source": "![](images/scalar-LTI-alt.svg)\n"
    },
    {
      "cell_type": "markdown",
      "metadata": {},
      "source": "------------------------------------------------------------------------\n"
    },
    {
      "cell_type": "code",
      "execution_count": 8,
      "metadata": {},
      "outputs": [],
      "source": "fig = figure()\nax = fig.add_subplot(111, projection=\"3d\")\nzticks = ax.set_zticks\nxt = squeeze(x(t))\nax.plot(t, real(xt), imag(xt))\nxticks([0.0, 20.0]); yticks([]); zticks([])\nax.set_xlabel(\"$t$\")\nax.set_ylabel(\"$\\mathrm{Re}(x(t))$\")\nax.set_zlabel(\"$\\mathrm{Im}(x(t))$\")"
    },
    {
      "cell_type": "markdown",
      "metadata": {},
      "source": "------------------------------------------------------------------------\n"
    },
    {
      "cell_type": "markdown",
      "metadata": {},
      "source": "![](images/scalar-LTI-3d.svg)\n"
    },
    {
      "cell_type": "markdown",
      "metadata": {},
      "source": "------------------------------------------------------------------------\n"
    },
    {
      "cell_type": "markdown",
      "metadata": {},
      "source": "Principles: start with scalar, spent some real time on this.\n"
    },
    {
      "cell_type": "markdown",
      "metadata": {},
      "source": "Then diagonal/vectorial (or more general, decoupling), then Jordan block\n(oops, complex, difficult to motivate)? Start with the diagonalisable\nfirst (easier to explain), then general case.\n"
    },
    {
      "cell_type": "markdown",
      "metadata": {},
      "source": "------------------------------------------------------------------------\n"
    },
    {
      "cell_type": "markdown",
      "metadata": {},
      "source": "Explain change of variable stuff, exponential of Jordan block, etc.\n"
    },
    {
      "cell_type": "markdown",
      "metadata": {},
      "source": "**TODO:** code for that. Example with rooms & heat ? Can we display\ngraphically the modes ?\n"
    },
    {
      "cell_type": "markdown",
      "metadata": {},
      "source": "Reminder eigenvalue (and vector), etc.\n"
    },
    {
      "cell_type": "markdown",
      "metadata": {},
      "source": "Stability Criteria\n------------------\n"
    },
    {
      "cell_type": "markdown",
      "metadata": {},
      "source": "$\\dot{x} = A x$ is asymptotically stable iff\\\nall eigenvalues of $A$ have a negative real part\n"
    },
    {
      "cell_type": "markdown",
      "metadata": {},
      "source": "------------------------------------------------------------------------\n"
    },
    {
      "cell_type": "markdown",
      "metadata": {},
      "source": "TODO: deal with eigenvectors too. Need to understand the \u201cmodes\u201d\nassociated to each eigenvalue/vectors, time constant, oscillatory\ndynamics, etc.\n"
    },
    {
      "cell_type": "markdown",
      "metadata": {},
      "source": "Laplace & I/O Stability\n=======================\n"
    },
    {
      "cell_type": "markdown",
      "metadata": {},
      "source": "------------------------------------------------------------------------\n"
    },
    {
      "cell_type": "markdown",
      "metadata": {},
      "source": "TODO. New document or not? What to put in this section?\n"
    },
    {
      "cell_type": "markdown",
      "metadata": {},
      "source": "<style>\n\n.reveal section img {\n  border:0;\n  height:50vh;\n  width:auto;\n\n}\n\n.reveal section img.medium {\n  border:0;\n  max-width:50vh;\n}\n\n.reveal section img.icon {\n  display:inline;\n  border:0;\n  width:1em;\n  margin:0em;\n  box-shadow:none;\n  vertical-align:-10%;\n}\n\n.reveal code {\n  font-family: Inconsolata, monospace;\n}\n\n.reveal pre code {\n  font-size: 1.5em;\n  line-height: 1.5em;\n  /* max-height: 80wh; won't work, overriden */\n}\n\ninput {\n  font-family: \"Source Sans Pro\", Helvetica, sans-serif;\n  font-size: 42px;\n  line-height: 54.6px;\n}\n\n</style>\n"
    },
    {
      "cell_type": "markdown",
      "metadata": {},
      "source": "<link href=\"https://fonts.googleapis.com/css?family=Inconsolata:400,700\" rel=\"stylesheet\">\n"
    }
  ],
  "metadata": {
    "kernelspec": {
      "display_name": "Python 3",
      "language": "python",
      "name": "python3"
    },
    "language_info": {
      "codemirror_mode": {
        "name": "ipython",
        "version": 3
      },
      "file_extension": ".py",
      "mimetype": "text/x-python",
      "name": "python",
      "nbconvert_exporter": "python",
      "pygments_lexer": "ipython3",
      "version": "3.6.4"
    }
  },
  "nbformat": 4,
  "nbformat_minor": 2
}